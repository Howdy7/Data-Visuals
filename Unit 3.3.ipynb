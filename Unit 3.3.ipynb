{
 "cells": [
  {
   "cell_type": "code",
   "execution_count": 32,
   "metadata": {},
   "outputs": [
    {
     "data": {
      "image/png": "[encoded data removed]",
      "text/plain": [
       "<Figure size 432x288 with 1 Axes>"
      ]
     },
     "metadata": {},
     "output_type": "display_data"
    },
    {
     "name": "stdout",
     "output_type": "stream",
     "text": [
      "Clear concentration in two values\n"
     ]
    }
   ],
   "source": [
    "import numpy as np\n",
    "import matplotlib.pyplot as plt\n",
    "var1 = np.random.binomial(1,.4, 100)\n",
    "\n",
    "mean = np.mean(var1)\n",
    "sd = np.std(var1)\n",
    "\n",
    "plt.hist(var1)\n",
    "plt.axvline(x=mean,color='yellow')\n",
    "plt.axvline(x=mean+sd, color='orange')\n",
    "plt.axvline(x=mean-sd, color='red')\n",
    "plt.show()\n",
    "print('Clear concentration in two values')\n",
    "\n"
   ]
  },
  {
   "cell_type": "code",
   "execution_count": 31,
   "metadata": {},
   "outputs": [
    {
     "data": {
      "image/png": "[encoded data removed]",
      "text/plain": [
       "<Figure size 432x288 with 1 Axes>"
      ]
     },
     "metadata": {},
     "output_type": "display_data"
    },
    {
     "name": "stdout",
     "output_type": "stream",
     "text": [
      "Concentration at mean with normal distribution on both sides\n"
     ]
    }
   ],
   "source": [
    "import numpy as np\n",
    "import matplotlib.pyplot as plt\n",
    "var1 = np.random.normal(5,.5, 100)\n",
    "var2 = np.random.normal(10,1, 100)\n",
    "var3 = var1+var2\n",
    "\n",
    "mean = np.mean(var3)\n",
    "sd = np.std(var3)\n",
    "\n",
    "plt.hist(var3)\n",
    "plt.axvline(x=mean,color='black')\n",
    "plt.axvline(x=mean+sd, color='red')\n",
    "plt.axvline(x=mean-sd, color='red')\n",
    "plt.show()\n",
    "print('Concentration at mean with normal distribution on both sides')\n"
   ]
  },
  {
   "cell_type": "code",
   "execution_count": null,
   "metadata": {},
   "outputs": [],
   "source": []
  }
 ],
 "metadata": {
  "kernelspec": {
   "display_name": "Python 3",
   "language": "python",
   "name": "python3"
  },
  "language_info": {
   "codemirror_mode": {
    "name": "ipython",
    "version": 3
   },
   "file_extension": ".py",
   "mimetype": "text/x-python",
   "name": "python",
   "nbconvert_exporter": "python",
   "pygments_lexer": "ipython3",
   "version": "3.6.5"
  }
 },
 "nbformat": 4,
 "nbformat_minor": 2
}
